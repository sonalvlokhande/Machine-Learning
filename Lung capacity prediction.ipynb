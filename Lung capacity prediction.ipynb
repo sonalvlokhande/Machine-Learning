{
 "cells": [
  {
   "cell_type": "code",
   "execution_count": 1,
   "id": "76ff11ef",
   "metadata": {},
   "outputs": [],
   "source": [
    "import pandas as pd \n",
    "pd.set_option('display.max_columns',None)\n",
    "pd.set_option('display.max_rows',None)\n",
    "import numpy as np"
   ]
  },
  {
   "cell_type": "code",
   "execution_count": 2,
   "id": "78e3dc85",
   "metadata": {},
   "outputs": [],
   "source": [
    "lcn = pd.read_csv('LungCapData.csv')"
   ]
  },
  {
   "cell_type": "code",
   "execution_count": 3,
   "id": "1ad56b7e",
   "metadata": {},
   "outputs": [
    {
     "data": {
      "text/html": [
       "<div>\n",
       "<style scoped>\n",
       "    .dataframe tbody tr th:only-of-type {\n",
       "        vertical-align: middle;\n",
       "    }\n",
       "\n",
       "    .dataframe tbody tr th {\n",
       "        vertical-align: top;\n",
       "    }\n",
       "\n",
       "    .dataframe thead th {\n",
       "        text-align: right;\n",
       "    }\n",
       "</style>\n",
       "<table border=\"1\" class=\"dataframe\">\n",
       "  <thead>\n",
       "    <tr style=\"text-align: right;\">\n",
       "      <th></th>\n",
       "      <th>LungCap</th>\n",
       "      <th>Age</th>\n",
       "      <th>Height</th>\n",
       "      <th>Smoke</th>\n",
       "      <th>Gender</th>\n",
       "      <th>Caesarean</th>\n",
       "    </tr>\n",
       "  </thead>\n",
       "  <tbody>\n",
       "    <tr>\n",
       "      <th>0</th>\n",
       "      <td>6.475</td>\n",
       "      <td>6</td>\n",
       "      <td>62.1</td>\n",
       "      <td>no</td>\n",
       "      <td>male</td>\n",
       "      <td>no</td>\n",
       "    </tr>\n",
       "    <tr>\n",
       "      <th>1</th>\n",
       "      <td>10.125</td>\n",
       "      <td>18</td>\n",
       "      <td>74.7</td>\n",
       "      <td>yes</td>\n",
       "      <td>female</td>\n",
       "      <td>no</td>\n",
       "    </tr>\n",
       "    <tr>\n",
       "      <th>2</th>\n",
       "      <td>9.550</td>\n",
       "      <td>16</td>\n",
       "      <td>69.7</td>\n",
       "      <td>no</td>\n",
       "      <td>female</td>\n",
       "      <td>yes</td>\n",
       "    </tr>\n",
       "    <tr>\n",
       "      <th>3</th>\n",
       "      <td>11.125</td>\n",
       "      <td>14</td>\n",
       "      <td>71.0</td>\n",
       "      <td>no</td>\n",
       "      <td>male</td>\n",
       "      <td>no</td>\n",
       "    </tr>\n",
       "    <tr>\n",
       "      <th>4</th>\n",
       "      <td>4.800</td>\n",
       "      <td>5</td>\n",
       "      <td>56.9</td>\n",
       "      <td>no</td>\n",
       "      <td>male</td>\n",
       "      <td>no</td>\n",
       "    </tr>\n",
       "  </tbody>\n",
       "</table>\n",
       "</div>"
      ],
      "text/plain": [
       "   LungCap  Age  Height Smoke  Gender Caesarean\n",
       "0    6.475    6    62.1    no    male        no\n",
       "1   10.125   18    74.7   yes  female        no\n",
       "2    9.550   16    69.7    no  female       yes\n",
       "3   11.125   14    71.0    no    male        no\n",
       "4    4.800    5    56.9    no    male        no"
      ]
     },
     "execution_count": 3,
     "metadata": {},
     "output_type": "execute_result"
    }
   ],
   "source": [
    "lcn.head()"
   ]
  },
  {
   "cell_type": "code",
   "execution_count": 4,
   "id": "f142fd71",
   "metadata": {},
   "outputs": [
    {
     "data": {
      "text/plain": [
       "(725, 6)"
      ]
     },
     "execution_count": 4,
     "metadata": {},
     "output_type": "execute_result"
    }
   ],
   "source": [
    "lcn.shape"
   ]
  },
  {
   "cell_type": "code",
   "execution_count": 5,
   "id": "8880bf4e",
   "metadata": {},
   "outputs": [
    {
     "data": {
      "text/plain": [
       "LungCap      0\n",
       "Age          0\n",
       "Height       0\n",
       "Smoke        0\n",
       "Gender       0\n",
       "Caesarean    0\n",
       "dtype: int64"
      ]
     },
     "execution_count": 5,
     "metadata": {},
     "output_type": "execute_result"
    }
   ],
   "source": [
    "lcn.isnull().sum()"
   ]
  },
  {
   "cell_type": "code",
   "execution_count": 6,
   "id": "e474bb44",
   "metadata": {},
   "outputs": [
    {
     "name": "stdout",
     "output_type": "stream",
     "text": [
      "<class 'pandas.core.frame.DataFrame'>\n",
      "RangeIndex: 725 entries, 0 to 724\n",
      "Data columns (total 6 columns):\n",
      " #   Column     Non-Null Count  Dtype  \n",
      "---  ------     --------------  -----  \n",
      " 0   LungCap    725 non-null    float64\n",
      " 1   Age        725 non-null    int64  \n",
      " 2   Height     725 non-null    float64\n",
      " 3   Smoke      725 non-null    object \n",
      " 4   Gender     725 non-null    object \n",
      " 5   Caesarean  725 non-null    object \n",
      "dtypes: float64(2), int64(1), object(3)\n",
      "memory usage: 34.1+ KB\n"
     ]
    }
   ],
   "source": [
    "lcn.info()"
   ]
  },
  {
   "cell_type": "code",
   "execution_count": 7,
   "id": "1cbbb0ba",
   "metadata": {},
   "outputs": [
    {
     "data": {
      "text/plain": [
       "no     648\n",
       "yes     77\n",
       "Name: Smoke, dtype: int64"
      ]
     },
     "execution_count": 7,
     "metadata": {},
     "output_type": "execute_result"
    }
   ],
   "source": [
    "lcn.Smoke.value_counts()"
   ]
  },
  {
   "cell_type": "code",
   "execution_count": 8,
   "id": "fc21441b",
   "metadata": {},
   "outputs": [],
   "source": [
    "lcn.Smoke = lcn.Smoke.replace({'no':0,'yes':1})"
   ]
  },
  {
   "cell_type": "code",
   "execution_count": 9,
   "id": "e519d018",
   "metadata": {},
   "outputs": [
    {
     "data": {
      "text/plain": [
       "male      367\n",
       "female    358\n",
       "Name: Gender, dtype: int64"
      ]
     },
     "execution_count": 9,
     "metadata": {},
     "output_type": "execute_result"
    }
   ],
   "source": [
    "lcn.Gender.value_counts()"
   ]
  },
  {
   "cell_type": "code",
   "execution_count": 10,
   "id": "8fae42d6",
   "metadata": {},
   "outputs": [],
   "source": [
    "lcn.Gender = lcn.Gender.replace({'male':1,'female':0})"
   ]
  },
  {
   "cell_type": "code",
   "execution_count": 11,
   "id": "47abb15d",
   "metadata": {},
   "outputs": [
    {
     "data": {
      "text/plain": [
       "no     561\n",
       "yes    164\n",
       "Name: Caesarean, dtype: int64"
      ]
     },
     "execution_count": 11,
     "metadata": {},
     "output_type": "execute_result"
    }
   ],
   "source": [
    "lcn.Caesarean.value_counts()"
   ]
  },
  {
   "cell_type": "code",
   "execution_count": 12,
   "id": "76d82c63",
   "metadata": {},
   "outputs": [],
   "source": [
    "lcn.Caesarean = lcn.Caesarean.replace({'yes':1,'no':0})"
   ]
  },
  {
   "cell_type": "code",
   "execution_count": 13,
   "id": "9a49d7b4",
   "metadata": {},
   "outputs": [
    {
     "name": "stdout",
     "output_type": "stream",
     "text": [
      "<class 'pandas.core.frame.DataFrame'>\n",
      "RangeIndex: 725 entries, 0 to 724\n",
      "Data columns (total 6 columns):\n",
      " #   Column     Non-Null Count  Dtype  \n",
      "---  ------     --------------  -----  \n",
      " 0   LungCap    725 non-null    float64\n",
      " 1   Age        725 non-null    int64  \n",
      " 2   Height     725 non-null    float64\n",
      " 3   Smoke      725 non-null    int64  \n",
      " 4   Gender     725 non-null    int64  \n",
      " 5   Caesarean  725 non-null    int64  \n",
      "dtypes: float64(2), int64(4)\n",
      "memory usage: 34.1 KB\n"
     ]
    }
   ],
   "source": [
    "lcn.info()"
   ]
  },
  {
   "cell_type": "markdown",
   "id": "2dd417cf",
   "metadata": {},
   "source": [
    "# Sampling"
   ]
  },
  {
   "cell_type": "code",
   "execution_count": 14,
   "id": "eb80744a",
   "metadata": {},
   "outputs": [],
   "source": [
    "from sklearn.model_selection import train_test_split"
   ]
  },
  {
   "cell_type": "code",
   "execution_count": 15,
   "id": "a55cdca6",
   "metadata": {},
   "outputs": [],
   "source": [
    "lcn_train, lcn_test = train_test_split(lcn,test_size =.2)"
   ]
  },
  {
   "cell_type": "code",
   "execution_count": 16,
   "id": "ec46fbc2",
   "metadata": {},
   "outputs": [
    {
     "data": {
      "text/plain": [
       "(580, 6)"
      ]
     },
     "execution_count": 16,
     "metadata": {},
     "output_type": "execute_result"
    }
   ],
   "source": [
    "lcn_train.shape"
   ]
  },
  {
   "cell_type": "code",
   "execution_count": 17,
   "id": "e9114e32",
   "metadata": {},
   "outputs": [
    {
     "data": {
      "text/plain": [
       "(145, 6)"
      ]
     },
     "execution_count": 17,
     "metadata": {},
     "output_type": "execute_result"
    }
   ],
   "source": [
    "lcn_test.shape"
   ]
  },
  {
   "cell_type": "code",
   "execution_count": 18,
   "id": "b1b975ba",
   "metadata": {},
   "outputs": [],
   "source": [
    "lcn_train_y = lcn_train.iloc[: , 0]  #[rows,column]\n",
    "lcn_test_y = lcn_test.iloc[: , 0] "
   ]
  },
  {
   "cell_type": "code",
   "execution_count": 19,
   "id": "d42d1df9",
   "metadata": {},
   "outputs": [],
   "source": [
    "lcn_train_x = lcn_train.iloc[: , 1::] \n",
    "lcn_test_x = lcn_test.iloc[: , 1::]"
   ]
  },
  {
   "cell_type": "code",
   "execution_count": 20,
   "id": "c310eb0b",
   "metadata": {},
   "outputs": [
    {
     "data": {
      "text/html": [
       "<div>\n",
       "<style scoped>\n",
       "    .dataframe tbody tr th:only-of-type {\n",
       "        vertical-align: middle;\n",
       "    }\n",
       "\n",
       "    .dataframe tbody tr th {\n",
       "        vertical-align: top;\n",
       "    }\n",
       "\n",
       "    .dataframe thead th {\n",
       "        text-align: right;\n",
       "    }\n",
       "</style>\n",
       "<table border=\"1\" class=\"dataframe\">\n",
       "  <thead>\n",
       "    <tr style=\"text-align: right;\">\n",
       "      <th></th>\n",
       "      <th>Age</th>\n",
       "      <th>Height</th>\n",
       "      <th>Smoke</th>\n",
       "      <th>Gender</th>\n",
       "      <th>Caesarean</th>\n",
       "    </tr>\n",
       "  </thead>\n",
       "  <tbody>\n",
       "    <tr>\n",
       "      <th>611</th>\n",
       "      <td>15</td>\n",
       "      <td>63.2</td>\n",
       "      <td>0</td>\n",
       "      <td>0</td>\n",
       "      <td>0</td>\n",
       "    </tr>\n",
       "    <tr>\n",
       "      <th>334</th>\n",
       "      <td>14</td>\n",
       "      <td>69.1</td>\n",
       "      <td>0</td>\n",
       "      <td>0</td>\n",
       "      <td>1</td>\n",
       "    </tr>\n",
       "    <tr>\n",
       "      <th>477</th>\n",
       "      <td>9</td>\n",
       "      <td>63.4</td>\n",
       "      <td>0</td>\n",
       "      <td>1</td>\n",
       "      <td>0</td>\n",
       "    </tr>\n",
       "    <tr>\n",
       "      <th>192</th>\n",
       "      <td>10</td>\n",
       "      <td>61.5</td>\n",
       "      <td>0</td>\n",
       "      <td>0</td>\n",
       "      <td>0</td>\n",
       "    </tr>\n",
       "    <tr>\n",
       "      <th>156</th>\n",
       "      <td>11</td>\n",
       "      <td>71.2</td>\n",
       "      <td>1</td>\n",
       "      <td>1</td>\n",
       "      <td>0</td>\n",
       "    </tr>\n",
       "  </tbody>\n",
       "</table>\n",
       "</div>"
      ],
      "text/plain": [
       "     Age  Height  Smoke  Gender  Caesarean\n",
       "611   15    63.2      0       0          0\n",
       "334   14    69.1      0       0          1\n",
       "477    9    63.4      0       1          0\n",
       "192   10    61.5      0       0          0\n",
       "156   11    71.2      1       1          0"
      ]
     },
     "execution_count": 20,
     "metadata": {},
     "output_type": "execute_result"
    }
   ],
   "source": [
    "lcn_train_x.head()"
   ]
  },
  {
   "cell_type": "markdown",
   "id": "369bb389",
   "metadata": {},
   "source": [
    "# Building the model"
   ]
  },
  {
   "cell_type": "code",
   "execution_count": 21,
   "id": "c733ef4a",
   "metadata": {},
   "outputs": [],
   "source": [
    "#Building the model \n",
    "#import the necessary function from sklearn\n",
    "#create an object of that function \n",
    "#run the fit function and model is created\n",
    "#run the predict function(prediction will done after this )\n"
   ]
  },
  {
   "cell_type": "code",
   "execution_count": 22,
   "id": "53e462b1",
   "metadata": {},
   "outputs": [],
   "source": [
    "from sklearn.linear_model import LinearRegression "
   ]
  },
  {
   "cell_type": "code",
   "execution_count": 23,
   "id": "dd9c3d17",
   "metadata": {},
   "outputs": [],
   "source": [
    "linereg = LinearRegression()"
   ]
  },
  {
   "cell_type": "code",
   "execution_count": 24,
   "id": "8b946cfa",
   "metadata": {},
   "outputs": [
    {
     "data": {
      "text/html": [
       "<style>#sk-container-id-1 {color: black;background-color: white;}#sk-container-id-1 pre{padding: 0;}#sk-container-id-1 div.sk-toggleable {background-color: white;}#sk-container-id-1 label.sk-toggleable__label {cursor: pointer;display: block;width: 100%;margin-bottom: 0;padding: 0.3em;box-sizing: border-box;text-align: center;}#sk-container-id-1 label.sk-toggleable__label-arrow:before {content: \"▸\";float: left;margin-right: 0.25em;color: #696969;}#sk-container-id-1 label.sk-toggleable__label-arrow:hover:before {color: black;}#sk-container-id-1 div.sk-estimator:hover label.sk-toggleable__label-arrow:before {color: black;}#sk-container-id-1 div.sk-toggleable__content {max-height: 0;max-width: 0;overflow: hidden;text-align: left;background-color: #f0f8ff;}#sk-container-id-1 div.sk-toggleable__content pre {margin: 0.2em;color: black;border-radius: 0.25em;background-color: #f0f8ff;}#sk-container-id-1 input.sk-toggleable__control:checked~div.sk-toggleable__content {max-height: 200px;max-width: 100%;overflow: auto;}#sk-container-id-1 input.sk-toggleable__control:checked~label.sk-toggleable__label-arrow:before {content: \"▾\";}#sk-container-id-1 div.sk-estimator input.sk-toggleable__control:checked~label.sk-toggleable__label {background-color: #d4ebff;}#sk-container-id-1 div.sk-label input.sk-toggleable__control:checked~label.sk-toggleable__label {background-color: #d4ebff;}#sk-container-id-1 input.sk-hidden--visually {border: 0;clip: rect(1px 1px 1px 1px);clip: rect(1px, 1px, 1px, 1px);height: 1px;margin: -1px;overflow: hidden;padding: 0;position: absolute;width: 1px;}#sk-container-id-1 div.sk-estimator {font-family: monospace;background-color: #f0f8ff;border: 1px dotted black;border-radius: 0.25em;box-sizing: border-box;margin-bottom: 0.5em;}#sk-container-id-1 div.sk-estimator:hover {background-color: #d4ebff;}#sk-container-id-1 div.sk-parallel-item::after {content: \"\";width: 100%;border-bottom: 1px solid gray;flex-grow: 1;}#sk-container-id-1 div.sk-label:hover label.sk-toggleable__label {background-color: #d4ebff;}#sk-container-id-1 div.sk-serial::before {content: \"\";position: absolute;border-left: 1px solid gray;box-sizing: border-box;top: 0;bottom: 0;left: 50%;z-index: 0;}#sk-container-id-1 div.sk-serial {display: flex;flex-direction: column;align-items: center;background-color: white;padding-right: 0.2em;padding-left: 0.2em;position: relative;}#sk-container-id-1 div.sk-item {position: relative;z-index: 1;}#sk-container-id-1 div.sk-parallel {display: flex;align-items: stretch;justify-content: center;background-color: white;position: relative;}#sk-container-id-1 div.sk-item::before, #sk-container-id-1 div.sk-parallel-item::before {content: \"\";position: absolute;border-left: 1px solid gray;box-sizing: border-box;top: 0;bottom: 0;left: 50%;z-index: -1;}#sk-container-id-1 div.sk-parallel-item {display: flex;flex-direction: column;z-index: 1;position: relative;background-color: white;}#sk-container-id-1 div.sk-parallel-item:first-child::after {align-self: flex-end;width: 50%;}#sk-container-id-1 div.sk-parallel-item:last-child::after {align-self: flex-start;width: 50%;}#sk-container-id-1 div.sk-parallel-item:only-child::after {width: 0;}#sk-container-id-1 div.sk-dashed-wrapped {border: 1px dashed gray;margin: 0 0.4em 0.5em 0.4em;box-sizing: border-box;padding-bottom: 0.4em;background-color: white;}#sk-container-id-1 div.sk-label label {font-family: monospace;font-weight: bold;display: inline-block;line-height: 1.2em;}#sk-container-id-1 div.sk-label-container {text-align: center;}#sk-container-id-1 div.sk-container {/* jupyter's `normalize.less` sets `[hidden] { display: none; }` but bootstrap.min.css set `[hidden] { display: none !important; }` so we also need the `!important` here to be able to override the default hidden behavior on the sphinx rendered scikit-learn.org. See: https://github.com/scikit-learn/scikit-learn/issues/21755 */display: inline-block !important;position: relative;}#sk-container-id-1 div.sk-text-repr-fallback {display: none;}</style><div id=\"sk-container-id-1\" class=\"sk-top-container\"><div class=\"sk-text-repr-fallback\"><pre>LinearRegression()</pre><b>In a Jupyter environment, please rerun this cell to show the HTML representation or trust the notebook. <br />On GitHub, the HTML representation is unable to render, please try loading this page with nbviewer.org.</b></div><div class=\"sk-container\" hidden><div class=\"sk-item\"><div class=\"sk-estimator sk-toggleable\"><input class=\"sk-toggleable__control sk-hidden--visually\" id=\"sk-estimator-id-1\" type=\"checkbox\" checked><label for=\"sk-estimator-id-1\" class=\"sk-toggleable__label sk-toggleable__label-arrow\">LinearRegression</label><div class=\"sk-toggleable__content\"><pre>LinearRegression()</pre></div></div></div></div></div>"
      ],
      "text/plain": [
       "LinearRegression()"
      ]
     },
     "execution_count": 24,
     "metadata": {},
     "output_type": "execute_result"
    }
   ],
   "source": [
    "linereg.fit(lcn_train_x,lcn_train_y)"
   ]
  },
  {
   "cell_type": "code",
   "execution_count": 25,
   "id": "580f4be4",
   "metadata": {},
   "outputs": [
    {
     "data": {
      "text/plain": [
       "0.8540047293085814"
      ]
     },
     "execution_count": 25,
     "metadata": {},
     "output_type": "execute_result"
    }
   ],
   "source": [
    "Rsquare = linereg.score(lcn_train_x,lcn_train_y)\n",
    "Rsquare"
   ]
  },
  {
   "cell_type": "code",
   "execution_count": 26,
   "id": "72333eeb",
   "metadata": {},
   "outputs": [],
   "source": [
    "N = lcn_train_x.shape[0]\n",
    "K = lcn_train_x.shape[1]"
   ]
  },
  {
   "cell_type": "code",
   "execution_count": 27,
   "id": "d474f684",
   "metadata": {},
   "outputs": [
    {
     "data": {
      "text/plain": [
       "0.8527329935011648"
      ]
     },
     "execution_count": 27,
     "metadata": {},
     "output_type": "execute_result"
    }
   ],
   "source": [
    "adj_Rsquare = 1-(1-Rsquare)*(N-1) / (N-K-1)\n",
    "adj_Rsquare"
   ]
  },
  {
   "cell_type": "code",
   "execution_count": 28,
   "id": "0bc83245",
   "metadata": {},
   "outputs": [
    {
     "data": {
      "text/plain": [
       "array([ 0.1779302 ,  0.25714349, -0.64787012,  0.44071222, -0.25319093])"
      ]
     },
     "execution_count": 28,
     "metadata": {},
     "output_type": "execute_result"
    }
   ],
   "source": [
    "linereg.coef_"
   ]
  },
  {
   "cell_type": "code",
   "execution_count": 29,
   "id": "cd8283fb",
   "metadata": {},
   "outputs": [
    {
     "data": {
      "text/plain": [
       "Index(['Age', 'Height', 'Smoke', 'Gender', 'Caesarean'], dtype='object')"
      ]
     },
     "execution_count": 29,
     "metadata": {},
     "output_type": "execute_result"
    }
   ],
   "source": [
    "lcn_train_x.columns"
   ]
  },
  {
   "cell_type": "code",
   "execution_count": 30,
   "id": "8ad5fcb4",
   "metadata": {},
   "outputs": [
    {
     "data": {
      "text/plain": [
       "-11.049117828619963"
      ]
     },
     "execution_count": 30,
     "metadata": {},
     "output_type": "execute_result"
    }
   ],
   "source": [
    "linereg.intercept_"
   ]
  },
  {
   "cell_type": "code",
   "execution_count": 31,
   "id": "71302020",
   "metadata": {},
   "outputs": [],
   "source": [
    "pred_train = linereg.predict(lcn_train_x)"
   ]
  },
  {
   "cell_type": "code",
   "execution_count": 32,
   "id": "fbe1ba28",
   "metadata": {},
   "outputs": [],
   "source": [
    "pred_test = linereg.predict(lcn_test_x)"
   ]
  },
  {
   "cell_type": "code",
   "execution_count": 33,
   "id": "8e9c65e4",
   "metadata": {},
   "outputs": [
    {
     "data": {
      "text/plain": [
       "array([ 7.87130374,  8.9573292 ,  7.29586346,  6.54450881,  9.00957296,\n",
       "        8.12079288,  9.2974422 ,  2.66992308,  7.47379366, 10.1084521 ,\n",
       "        6.26917182,  5.8174254 , 10.43445766,  3.92973826,  9.99644282,\n",
       "       10.4703353 ,  6.90036921,  5.87574781,  7.87901251,  9.38016935,\n",
       "        7.46464178, 10.37123412,  5.64450659,  5.24078579,  7.95528465,\n",
       "        3.41356896,  4.31713946,  3.46913815,  9.8034482 ,  8.99546553,\n",
       "        3.26699164,  9.52116256,  5.28657595, 10.93676188,  7.19339034,\n",
       "        2.10627765,  7.98018394,  4.46992751,  4.93428384, 13.24296024,\n",
       "        8.06315344, 11.48768714, 11.01183468,  8.33209177,  9.39201862,\n",
       "        8.07701853, 12.32326648,  4.64992796, 10.36540766,  9.51495183,\n",
       "        9.19439687,  6.16857259,  7.2742896 , 10.4174635 , 10.01123324,\n",
       "        9.10352224,  6.0893593 ,  7.0782994 ,  9.7283754 ,  7.31743732,\n",
       "        2.70373048, 10.80009708,  9.90404743,  6.76558673,  8.06729393,\n",
       "        6.42778633,  6.34481682,  8.30844767,  8.24503621,  7.34729216,\n",
       "        6.08728906,  4.49150138, 10.25565656,  5.55142822, 11.3164543 ,\n",
       "        8.57329994,  8.29853515,  7.66660035,  8.08886779,  8.09300828,\n",
       "       10.90352668,  9.95566405,  5.80086293, 11.39209931, 10.46412457,\n",
       "        7.02894095,  7.29022493, 11.44145776, 10.97859948, 12.45183822,\n",
       "        9.46559338,  8.70187168,  3.5699253 ,  9.41980321,  4.69721617,\n",
       "        5.11221404,  9.03615822, 12.18660168,  7.18235614,  3.65270688,\n",
       "        7.70315256,  6.93793282, 11.67645519,  5.98086337, 13.37153198,\n",
       "        6.21793105,  9.82352402,  8.72401774,  6.57210547,  9.00687558,\n",
       "        6.05367801,  4.34906455,  7.67743821,  7.11022449,  4.23435789,\n",
       "        9.69081178,  5.89231027,  8.03180056,  3.89781318,  6.36243812,\n",
       "        7.60914885,  8.47289706,  9.69852056,  8.85051924,  5.03921148,\n",
       "       10.85980676, 11.65281109,  5.75150448,  4.49357162,  7.73093715,\n",
       "        7.24236452,  7.49743777, 10.02008693,  8.79909055,  8.21122881,\n",
       "        6.12479825,  7.11360485, 11.64698463, 10.41144069,  8.88394237,\n",
       "        9.59623536,  9.87350961, 11.44295581,  9.61072759,  9.08551667,\n",
       "       11.56588902,  7.05258506,  7.8080802 ,  9.93823068,  2.49744349,\n",
       "        2.35721041,  8.52808197,  8.27772193,  9.82415115,  8.56540323,\n",
       "        8.07971591,  9.46747569,  4.64578747,  4.49713991,  8.11646446,\n",
       "        4.49357162, 10.46475171,  8.08453938,  8.18965495, 11.11488   ,\n",
       "        3.36214026, 12.37469518,  9.9299497 ,  7.05653762,  7.0364618 ,\n",
       "        6.95950668,  4.03428163,  5.64657684, 11.80088645,  6.41593706,\n",
       "       10.38509921,  5.18314635, 10.54352579,  6.13514947, 11.61731772,\n",
       "        3.77356985,  8.93330082,  8.16037231,  7.67122748,  4.36085939,\n",
       "        7.23672599, 10.19123368,  8.72382982,  8.03122836,  5.19349758,\n",
       "        6.34086426,  7.283442  , 11.00995236,  5.11428428,  7.18303912,\n",
       "       10.77081444, 10.86226127, 11.09518846, 10.69930993,  8.05043327,\n",
       "       11.4193117 ,  3.27113213,  5.19142733, 10.72352623, 10.51555327,\n",
       "        4.4498517 ,  4.29349536,  4.49150138,  7.11360485,  8.1875847 ,\n",
       "        8.95525896, 10.85359602, 10.13980498, 10.13566449,  9.10973298,\n",
       "        8.58139299, 10.43903736, 11.62295625,  7.8317243 , 10.05852145,\n",
       "       12.39645696, 12.98769906, 10.17437302,  3.87642724, 10.98216777,\n",
       "        8.20766052,  7.17200492,  9.90423535,  3.43928331,  8.59882636,\n",
       "        4.99663647,  5.85793016,  5.8127122 ,  7.65172386, 10.33930904,\n",
       "        5.52007534,  6.47714478,  5.50885321,  6.20652099,  3.47120839,\n",
       "       12.44374517,  7.97329023,  7.97830162,  4.64578747, 10.85566627,\n",
       "        6.60196031,  6.76188494,  9.86874198,  8.44472819,  7.76343494,\n",
       "       11.2177374 , 13.11231825,  9.75823024,  6.65093449,  5.01349713,\n",
       "        9.77686295, 10.03487734,  6.18243768, 11.01202261,  5.85022138,\n",
       "       10.20760822,  9.97988036,  5.44293229,  7.82758381,  8.8544718 ,\n",
       "        9.52304488,  9.79366918,  7.41822447,  6.961389  ,  6.42778633,\n",
       "        6.84687026,  8.51604478,  5.11259831, 11.56984158,  7.13536664,\n",
       "       10.87931037,  9.92017068,  7.86157914,  4.29594988, 10.17938442,\n",
       "        5.65466989,  2.0291346 , 10.15367007,  6.46322527,  9.48716724,\n",
       "        6.91014823,  7.99987548,  3.88452029,  8.57951067,  9.1352594 ,\n",
       "        5.2940968 ,  8.66136692,  8.24710645,  5.74736399,  7.10815424,\n",
       "       11.6546934 ,  6.36432044,  9.79222607,  6.52443299,  7.3354429 ,\n",
       "        7.53908744, 11.67269898, 13.62867547,  5.47635542,  9.49544821,\n",
       "        5.7019581 ,  9.10352224,  7.34108143, 10.26216599,  5.70778456,\n",
       "        9.44608976,  9.97159938,  7.8474717 ,  3.28894978,  7.13950712,\n",
       "       11.21359691,  7.59408443,  7.72867898, 10.01330348, 10.15261123,\n",
       "        3.13485161, 10.87912244,  7.78010768, 10.54333786,  9.23272113,\n",
       "        2.93044694,  6.83902799, 11.00374163, 10.21487779,  7.98808064,\n",
       "       10.87931037,  9.18066529,  9.23065088,  9.43987903,  3.64895066,\n",
       "        7.80244167,  7.56894228, 10.42661538,  8.36589917,  7.56687204,\n",
       "        7.9907236 ,  7.11379278,  2.98037759,  9.00837363,  8.49822713,\n",
       "       12.44017688,  1.57041681,  7.53143309,  9.36066573,  5.23702957,\n",
       "        7.51958383, 11.7006715 ,  8.01379499,  4.91270998,  9.2103322 ,\n",
       "        5.8278874 ,  9.43930683,  7.54115769,  9.34058992,  8.85051924,\n",
       "        4.49564186,  9.34473041,  9.9305219 ,  8.12267519,  4.74864487,\n",
       "       12.67912688, 11.51446032, 11.10866927,  8.15271847,  6.07958028,\n",
       "       10.19123368,  9.15702119,  4.10728418,  8.6941629 ,  9.96601527,\n",
       "        4.29387963, 10.95852366,  3.52827562, 12.03626815, 10.31340677,\n",
       "        9.95980454, 10.28995059,  6.78364673,  6.74194262,  6.41844652,\n",
       "        6.88857437, 11.70423978,  7.31637849,  3.33642591,  6.27407295,\n",
       "        4.2125961 , 10.94730153,  9.13487513,  3.45508514,  8.0096545 ,\n",
       "        6.63595615,  3.20578392, 11.5045478 ,  3.27113213, 12.16502782,\n",
       "        6.70424551,  9.19496908,  4.52135621,  4.29970609,  4.08421228,\n",
       "        7.08600818, 13.06295979,  8.28273332,  2.78651206,  9.18461785,\n",
       "        7.90322882,  5.72579013,  9.98551889,  8.84637875,  1.13327287,\n",
       "       12.18660168,  8.37379588, 10.89731594,  6.59179702,  4.9322136 ,\n",
       "        7.89908833,  9.14108586,  5.75714301,  5.83014557,  8.08115902,\n",
       "        5.21357339,  8.34808153,  6.73053206,  7.67575224,  5.05307657,\n",
       "        7.95201507,  8.82336179,  6.5717212 , 11.87922883,  9.3131896 ,\n",
       "        3.18570811,  8.18194617, 11.05574253,  5.01123896, 11.26001421,\n",
       "       11.62709674,  4.90293096,  5.38717518,  3.23977925,  8.39725206,\n",
       "        8.32010901,  7.85782293,  6.69465441, 10.85152578,  9.90047914,\n",
       "        7.87544422,  6.28115459,  7.08807843, 10.78454603,  9.14710867,\n",
       "        7.98037187,  6.00243723,  9.26758736,  7.20687115,  8.13803832,\n",
       "        9.61780923,  6.90807798,  8.19360751,  9.45172829,  9.28766318,\n",
       "       10.16402129,  9.28352269,  7.72322837,  4.03842211,  7.14138944,\n",
       "       11.85438539, 12.52088822, 10.61859859,  2.2070648 ,  9.23961484,\n",
       "       11.02651483,  7.02894095,  5.68207021,  4.54293007, 10.6422427 ,\n",
       "        5.11823685,  7.71701764, 11.80502694,  7.11003656, 11.77367405,\n",
       "        5.77514858,  8.25908922,  4.40049324,  5.77307834,  8.51623271,\n",
       "        7.44600907, 10.11202039,  4.95228941, 10.93280931,  5.4902205 ,\n",
       "       10.93487956,  7.83022626,  3.41770945,  5.22893652,  4.88285514,\n",
       "       12.13988567,  9.19044431,  8.20559027,  8.1875847 ,  7.15337221,\n",
       "       12.37676542, 11.08916565,  7.46815513, 11.08916565,  8.10687337,\n",
       "        7.66471804,  7.36886602,  8.48844811,  8.77544644,  6.05800642,\n",
       "       11.39773784, 11.54287205,  6.31250747,  9.0778079 ,  8.53987681,\n",
       "        8.43701941,  9.52473085,  4.5999973 ,  6.16857259,  7.45203187,\n",
       "        5.00935664,  5.80293318,  5.36935753,  7.61830073,  6.53742717,\n",
       "       10.70740298,  8.62323059,  5.15800421,  4.52116829,  8.3418708 ,\n",
       "       11.05367228, 10.41702429,  7.32157781,  9.85337886,  9.81644238,\n",
       "       12.46945952,  6.32474101,  5.47071688,  8.93537107, 10.40787241,\n",
       "        8.19003922,  7.58757499, 10.12795572,  6.86964346,  9.69182319,\n",
       "        5.97465264, 11.61938796,  7.41615423,  6.46529552,  5.72164964,\n",
       "        8.52037319,  2.41484984,  4.01063752, 11.0041259 , 10.05953286,\n",
       "        8.96108542,  5.61359292,  3.85485338, 11.06759179,  8.98661184,\n",
       "        3.47684692,  7.73074922, 10.34344953,  9.52473085, 11.72080225,\n",
       "        5.87781805,  7.73488971,  6.36807665,  5.41871598,  6.54036832,\n",
       "        6.97732433,  9.85468897, 11.39773784,  9.03360134, 10.25358631])"
      ]
     },
     "execution_count": 33,
     "metadata": {},
     "output_type": "execute_result"
    }
   ],
   "source": [
    "pred_train"
   ]
  },
  {
   "cell_type": "code",
   "execution_count": 34,
   "id": "ad9fa276",
   "metadata": {},
   "outputs": [
    {
     "data": {
      "text/plain": [
       "521   -0.297898\n",
       "251   -0.098007\n",
       "410    0.693570\n",
       "257    0.086466\n",
       "632    0.432858\n",
       "293    0.156548\n",
       "10    -0.664840\n",
       "449    0.688462\n",
       "98    -0.823525\n",
       "8     -1.314163\n",
       "697   -2.240650\n",
       "170   -0.927734\n",
       "298   -0.256276\n",
       "659   -0.046846\n",
       "682   -0.699245\n",
       "488   -1.753156\n",
       "78    -0.028597\n",
       "626   -1.528381\n",
       "516    0.676203\n",
       "28    -1.060491\n",
       "468   -1.523941\n",
       "224    0.818056\n",
       "381    1.419851\n",
       "648   -0.359725\n",
       "80     0.063916\n",
       "157    1.614051\n",
       "52    -0.740296\n",
       "680    0.731698\n",
       "598    1.196390\n",
       "482    0.425344\n",
       "434    1.240923\n",
       "592    1.506206\n",
       "478   -1.294224\n",
       "360   -1.005074\n",
       "620    0.065629\n",
       "400   -0.598991\n",
       "328   -1.709460\n",
       "232   -0.261526\n",
       "546    0.043111\n",
       "467    1.008284\n",
       "255    0.182782\n",
       "63     0.491702\n",
       "158   -0.535333\n",
       "245   -0.362070\n",
       "1     -0.589374\n",
       "59    -0.265750\n",
       "386   -1.447436\n",
       "99     0.271925\n",
       "447    1.272175\n",
       "75    -1.307166\n",
       "502    0.060615\n",
       "719   -0.716580\n",
       "391    1.218618\n",
       "206   -1.159508\n",
       "525   -0.510298\n",
       "216   -0.623457\n",
       "233   -0.033028\n",
       "649   -1.140516\n",
       "339   -0.546529\n",
       "495    0.432339\n",
       "197   -0.217106\n",
       "668   -0.950564\n",
       "536   -0.974878\n",
       "112   -1.330070\n",
       "379   -0.684925\n",
       "444   -0.972589\n",
       "134   -0.719953\n",
       "68     1.131845\n",
       "219   -1.840173\n",
       "273    0.328206\n",
       "430    0.832211\n",
       "322    0.591552\n",
       "182    0.263691\n",
       "13    -0.441651\n",
       "205    1.400148\n",
       "176   -1.288081\n",
       "380   -1.773939\n",
       "337    1.062744\n",
       "352   -0.947883\n",
       "90    -0.221244\n",
       "548   -0.616084\n",
       "69    -1.112514\n",
       "314    0.284139\n",
       "411    0.367423\n",
       "512    0.374196\n",
       "271   -0.770521\n",
       "420    1.250343\n",
       "395    0.457144\n",
       "139    0.438842\n",
       "475   -1.201441\n",
       "318   -1.361156\n",
       "541    0.096208\n",
       "555   -0.902020\n",
       "225    0.075971\n",
       "588   -0.126874\n",
       "358    1.319265\n",
       "713    0.599484\n",
       "191    0.322265\n",
       "622    0.065342\n",
       "451   -0.997669\n",
       "308    0.683496\n",
       "662   -0.896086\n",
       "590    0.610123\n",
       "506   -2.262244\n",
       "45    -0.305297\n",
       "289   -0.161515\n",
       "457    0.053696\n",
       "357   -0.012730\n",
       "331   -0.004507\n",
       "448   -1.268078\n",
       "217   -1.623673\n",
       "103   -0.512813\n",
       "355   -2.122695\n",
       "162    1.025342\n",
       "161   -0.435934\n",
       "679   -2.439508\n",
       "266   -1.419690\n",
       "717   -0.659226\n",
       "44    -1.561350\n",
       "168   -0.911577\n",
       "74    -0.905442\n",
       "116    0.619289\n",
       "277   -1.722966\n",
       "302    0.027637\n",
       "37     1.427708\n",
       "249   -0.285814\n",
       "393    0.514778\n",
       "18     1.027574\n",
       "166   -1.151872\n",
       "639   -0.428302\n",
       "476    0.460912\n",
       "149   -1.993086\n",
       "455   -0.699133\n",
       "297    0.588460\n",
       "126   -0.076119\n",
       "658   -0.159788\n",
       "77     0.151280\n",
       "279   -0.161802\n",
       "614    1.475418\n",
       "55     0.187934\n",
       "694   -1.305445\n",
       "436   -0.156422\n",
       "569    1.415875\n",
       "324   -1.368153\n",
       "121    0.138551\n",
       "Name: LungCap, dtype: float64"
      ]
     },
     "execution_count": 34,
     "metadata": {},
     "output_type": "execute_result"
    }
   ],
   "source": [
    "err_test = lcn_test_y - pred_test\n",
    "err_test"
   ]
  },
  {
   "cell_type": "code",
   "execution_count": 35,
   "id": "fdf03877",
   "metadata": {},
   "outputs": [
    {
     "data": {
      "text/plain": [
       "0.9277312695600546"
      ]
     },
     "execution_count": 35,
     "metadata": {},
     "output_type": "execute_result"
    }
   ],
   "source": [
    "mse = np.mean(np.square(err_test))\n",
    "mse"
   ]
  },
  {
   "cell_type": "code",
   "execution_count": 36,
   "id": "629391dd",
   "metadata": {},
   "outputs": [
    {
     "data": {
      "text/plain": [
       "0.9631880759021337"
      ]
     },
     "execution_count": 36,
     "metadata": {},
     "output_type": "execute_result"
    }
   ],
   "source": [
    "rmse = np.sqrt(mse)\n",
    "rmse"
   ]
  },
  {
   "cell_type": "code",
   "execution_count": 37,
   "id": "b51a685a",
   "metadata": {},
   "outputs": [
    {
     "data": {
      "text/plain": [
       "15.408012968549274"
      ]
     },
     "execution_count": 37,
     "metadata": {},
     "output_type": "execute_result"
    }
   ],
   "source": [
    "mape = np.mean(np.abs(err_test * 100/lcn_test_y))\n",
    "mape"
   ]
  }
 ],
 "metadata": {
  "kernelspec": {
   "display_name": "Python 3 (ipykernel)",
   "language": "python",
   "name": "python3"
  },
  "language_info": {
   "codemirror_mode": {
    "name": "ipython",
    "version": 3
   },
   "file_extension": ".py",
   "mimetype": "text/x-python",
   "name": "python",
   "nbconvert_exporter": "python",
   "pygments_lexer": "ipython3",
   "version": "3.10.9"
  }
 },
 "nbformat": 4,
 "nbformat_minor": 5
}
